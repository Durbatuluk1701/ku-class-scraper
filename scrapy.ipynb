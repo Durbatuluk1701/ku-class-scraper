{
 "cells": [
  {
   "cell_type": "code",
   "execution_count": 1,
   "metadata": {},
   "outputs": [],
   "source": [
    "\n",
    "\n",
    "import argparse\n",
    "from datetime import date\n",
    "import http.client as hc\n",
    "from bs4 import BeautifulSoup\n",
    "\n",
    "def init_argparser() -> argparse.ArgumentParser:\n",
    "    argparser = argparse.ArgumentParser(description=\"Scrappy KU site for class info\")\n",
    "    argparser.add_argument(\"department\", help = \"department code (EECS, CLSX, ...) to look search for\")\n",
    "    argparser.add_argument(\"output\", help = \"file to output results to\")\n",
    "    return argparser\n",
    "\n",
    "semesters = [\"spring\", \"summer\", \"fall\"]\n",
    "\n",
    "def searchTermEncoder(year, semester):\n",
    "    year = year % 100 # only last 2 digist\n",
    "    if (semester == \"spring\"):\n",
    "        return \"4\" + str(year) + \"2\"\n",
    "    elif (semester == \"summer\"):\n",
    "        return \"4\" + str(year) + \"6\"\n",
    "    else:\n",
    "        return \"4\" + str(year) + \"9\"\n",
    "\n",
    "# https: // classes.ku.edu/Classes/CourseSearch.action?classesSearchText = eecs & searchCareer = UndergraduateGraduate & searchTerm = 4219\n",
    "\n",
    "def traverseClasses(department : str):\n",
    "    print(\"dull\")\n",
    "    \n",
    "\n",
    "# if __name__ == \"__main__\":\n",
    "#     argparser = init_argparser()\n",
    "#     args = argparser.parse_args()\n",
    "#     dept : str = args.department\n",
    "#     output : str = args.output\n",
    "\n"
   ]
  },
  {
   "cell_type": "code",
   "execution_count": 11,
   "metadata": {},
   "outputs": [],
   "source": [
    "\n",
    "def connect_url(department: str, searchTerm: str) -> str:\n",
    "    url = f\"https://classes.ku.edu/Classes/CourseSearch.action?classesSearchText={department}&searchCareer=UndergraduateGraduate&searchTerm={searchTerm}\"\n",
    "    # open initial connection\n",
    "    conn = hc.HTTPSConnection(\"classes.ku.edu\")\n",
    "    conn.request(\"GET\", url)\n",
    "    resp = conn.getresponse()\n",
    "    if (resp.status != 200):\n",
    "        raise ConnectionError(\"GET failed\")\n",
    "    return resp.read()\n",
    "\n"
   ]
  },
  {
   "cell_type": "code",
   "execution_count": 7,
   "metadata": {},
   "outputs": [],
   "source": [
    "htmlText = connect_url(\"eecs\", \"4209\")"
   ]
  },
  {
   "cell_type": "code",
   "execution_count": 23,
   "metadata": {},
   "outputs": [],
   "source": [
    "def parse_row(row):\n",
    "    # return tuple of (className, miniDesc, description)\n",
    "    descRow = row.find_next_sibling(\"tr\")\n",
    "    className = row.find(\"h3\").get_text()\n",
    "    miniDesc = row.find(\"td\").get_text()\n",
    "    description = descRow.find(\"td\").get_text()\n",
    "    return (className, miniDesc, description)\n",
    "\n",
    "def parse_html(text: str):\n",
    "    soup = BeautifulSoup(text, \"html.parser\")\n",
    "    startBlocks = soup.find_all(\"h3\")\n",
    "    topRows = []\n",
    "    for blk in startBlocks:\n",
    "        topRows.append(blk.parent.parent)\n",
    "    outStuff = []\n",
    "    for row in topRows:\n",
    "        outStuff.append(parse_row(row))\n",
    "    return outStuff"
   ]
  },
  {
   "cell_type": "code",
   "execution_count": 26,
   "metadata": {},
   "outputs": [],
   "source": [
    "import csv\n",
    "with open(\"./out.csv\", \"w\") as out_write:\n",
    "    csvw = csv.writer(out_write, quoting=csv.QUOTE_ALL)\n",
    "    for val in parse_html(htmlText):\n",
    "        csvw.writerow(val)"
   ]
  },
  {
   "cell_type": "code",
   "execution_count": null,
   "metadata": {},
   "outputs": [],
   "source": []
  }
 ],
 "metadata": {
  "kernelspec": {
   "display_name": "Python 3.10.7 64-bit",
   "language": "python",
   "name": "python3"
  },
  "language_info": {
   "codemirror_mode": {
    "name": "ipython",
    "version": 3
   },
   "file_extension": ".py",
   "mimetype": "text/x-python",
   "name": "python",
   "nbconvert_exporter": "python",
   "pygments_lexer": "ipython3",
   "version": "3.10.7"
  },
  "orig_nbformat": 4,
  "vscode": {
   "interpreter": {
    "hash": "369f2c481f4da34e4445cda3fffd2e751bd1c4d706f27375911949ba6bb62e1c"
   }
  }
 },
 "nbformat": 4,
 "nbformat_minor": 2
}
