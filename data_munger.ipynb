{
 "cells": [
  {
   "cell_type": "code",
   "execution_count": 45,
   "metadata": {},
   "outputs": [],
   "source": [
    "import json\n",
    "import re\n",
    "from copy import deepcopy\n",
    "\n",
    "def load_file(fileName : str) -> json:\n",
    "    with open(fileName, \"r\") as fp:\n",
    "        return json.load(fp)\n",
    "\n",
    "\n",
    "def flatten_dict(dict: dict[str, dict[str, dict]]) -> dict[str, dict]:\n",
    "    returnDict = {}\n",
    "    for topKey in dict.keys():\n",
    "        [dept, termCode] = topKey.split(\"-\")\n",
    "        for classKey in dict[topKey].keys():\n",
    "            if (classKey not in returnDict.keys()):\n",
    "                # not available yet, so set up\n",
    "                returnDict[classKey] = {}\n",
    "            # add relevant for term\n",
    "            returnDict[classKey][termCode] = dict[topKey][classKey]\n",
    "    return returnDict\n",
    "\n",
    "# cleans up the data some\n",
    "def simple_data_clean(dict : dict[str,dict]) -> dict[str, dict]:\n",
    "    # lazy approach\n",
    "    returnDict = deepcopy(dict)\n",
    "    # drop tableData, and name (its obvious)\n",
    "    for cls in returnDict.values():\n",
    "        for term in cls.values():\n",
    "            del term[\"tableData\"]\n",
    "            del term[\"name\"]\n",
    "            term[\"miniDesc\"] = re.sub(\" (Fall|Spring|Summer) \\d+\", \"\", term[\"miniDesc\"])\n",
    "    # dropping duplicates\n",
    "    for clsKey in returnDict.keys():\n",
    "        cls = returnDict[clsKey]\n",
    "        clsOut = {}\n",
    "        for termKey in cls.keys():\n",
    "            term = cls[termKey]\n",
    "            resolved = False\n",
    "            for outTermKey in clsOut.keys():\n",
    "                outTerm = clsOut[outTermKey]\n",
    "                if (term[\"miniDesc\"] == outTerm[\"miniDesc\"]\n",
    "                    and term[\"description\"] == outTerm[\"description\"]):\n",
    "                    # these are duplicates\n",
    "                    clsOut[outTermKey][\"terms\"].append(termKey)\n",
    "                    resolved = True\n",
    "            if (not resolved):\n",
    "                # we did not find a duplicate so add here\n",
    "                # not a duplicate, add a term\n",
    "                clsOut[termKey] = deepcopy(term)\n",
    "                clsOut[termKey][\"terms\"] = [termKey]\n",
    "        returnDict[clsKey] = clsOut\n",
    "\n",
    "    # sorting\n",
    "    keyList = list(returnDict.keys())\n",
    "    keyList.sort()\n",
    "    sorted = { i: returnDict[i] for i in keyList }    \n",
    "\n",
    "    return sorted"
   ]
  },
  {
   "cell_type": "code",
   "execution_count": 46,
   "metadata": {},
   "outputs": [],
   "source": [
    "def simplify_data():\n",
    "    inFile = input(\"Input file path: \")\n",
    "    outFile = input(\"Output file path: \")\n",
    "    with open(outFile, \"w\") as fo:\n",
    "        json.dump(simple_data_clean(flatten_dict(load_file(inFile))), fo, indent=2)"
   ]
  },
  {
   "cell_type": "code",
   "execution_count": 48,
   "metadata": {},
   "outputs": [],
   "source": [
    "simplify_data()"
   ]
  },
  {
   "cell_type": "code",
   "execution_count": null,
   "metadata": {},
   "outputs": [],
   "source": []
  }
 ],
 "metadata": {
  "kernelspec": {
   "display_name": "Python 3",
   "language": "python",
   "name": "python3"
  },
  "language_info": {
   "codemirror_mode": {
    "name": "ipython",
    "version": 3
   },
   "file_extension": ".py",
   "mimetype": "text/x-python",
   "name": "python",
   "nbconvert_exporter": "python",
   "pygments_lexer": "ipython3",
   "version": "3.10.7"
  },
  "orig_nbformat": 4,
  "vscode": {
   "interpreter": {
    "hash": "369f2c481f4da34e4445cda3fffd2e751bd1c4d706f27375911949ba6bb62e1c"
   }
  }
 },
 "nbformat": 4,
 "nbformat_minor": 2
}
